{
 "cells": [
  {
   "cell_type": "code",
   "execution_count": 58,
   "metadata": {},
   "outputs": [],
   "source": [
    "from pathlib import Path\n",
    "\n",
    "import gin\n",
    "import matplotlib.pyplot as plt\n",
    "import pandas as pd\n",
    "import seaborn as sns\n",
    "from torch import tensor\n",
    "\n",
    "from src.game import ISR\n",
    "from src.data import Circle, CircleLoss\n",
    "from src.utils import circle_diff"
   ]
  },
  {
   "cell_type": "code",
   "execution_count": 61,
   "metadata": {},
   "outputs": [],
   "source": [
    "def plot(logdir, savedir):\n",
    "    if savedir:\n",
    "        savepath = Path(savedir)\n",
    "        \n",
    "    logpath = Path(logdir)    \n",
    "\n",
    "    config_file = next(logpath.glob('**/*.gin'))\n",
    "    gin.parse_config_file(config_file, skip_unknown=True)\n",
    "    circle = Circle()\n",
    "    circle_loss = CircleLoss(circle.num_points)\n",
    "    \n",
    "    run_logs = []\n",
    "    for path in logpath.glob('**/*.json'):\n",
    "        print(f'plotting from {path}')\n",
    "        with open(path, 'r') as logfile:\n",
    "            run_logs.append(pd.read_json(logfile))\n",
    "\n",
    "    logs = pd.concat(run_logs, ignore_index=True)\n",
    "    sender = pd.DataFrame(logs['sender'].to_list()).join(logs['episode'])\n",
    "    recver = pd.DataFrame(logs['recver'].to_list()).join(logs['episode'])\n",
    "    \n",
    "    sns.set()\n",
    "    \n",
    "    # Rewards\n",
    "    sns.lineplot(data=sender, x=\"episode\", y=\"reward\", label=\"sender\")\n",
    "    sns.lineplot(data=recver, x=\"episode\", y=\"reward\", label=\"recver\")\n",
    "\n",
    "    # Baselines\n",
    "    nocomm_loss = torch.tensor(circle.num_points / 4)\n",
    "    nocomm_rew = - circle_loss(tensor(0.), nocomm_loss)\n",
    "#     oneshot_loss = env.bias_space.low / 2 + (env.bias_space.range) / 4\n",
    "    fair_loss = circle.bias / 2\n",
    "    fair_rew = - circle_loss(tensor(0.), fair_loss)\n",
    "    plt.axhline(nocomm_rew, label='no communication', color=\"black\", dashes=(2,2,2,2))\n",
    "    plt.axhline(fair_rew, label='fair split', color=\"grey\", dashes=(2,2,2,2))\n",
    "\n",
    "    plt.legend()\n",
    "    if savedir:\n",
    "        plt.savefig(savepath / 'rewards.png')\n",
    "    plt.show()\n",
    "    plt.clf()\n",
    "\n",
    "    # REWARD PER ROUND\n",
    "#     sround = np.array(sender['round_reward'])\n",
    "#     rround = np.array(recver['round_reward'])\n",
    "#     avg_round = (sround + rround) / 2\n",
    "#     for r in range(env.num_rounds):\n",
    "#         # plt.plot(x, running_mean(avg_round[:,r]), label='avg_round-{}'.format(r))\n",
    "#         # plt.plot(x, running_mean(sround[:,r]), label='sender-{}'.format(r))\n",
    "#         plt.plot(x, running_mean(rround[:,r]), label='recver-{}'.format(r))\n",
    "#     plt.axhline(oneshot_rew, label='one-shot baseline')\n",
    "#     plt.legend()\n",
    "#     if savedir:\n",
    "#         plt.savefig(f'{savedir}/round.png')\n",
    "#     plt.show()\n",
    "#     plt.clf()\n",
    "\n",
    "    # WEIGHTS\n",
    "    # weights = np.array(recver['weights'])\n",
    "    # biases = np.array(recver['biases'])[:,np.newaxis]\n",
    "    # num_weights = weights.shape[1]\n",
    "    # for i in range(num_weights):\n",
    "        # plt.plot(x, running_mean(weights[:,i]), label=f'weight {i}')\n",
    "        # plt.plot(x, running_mean(biases[:,i]), label=f'bias {i}')\n",
    "    # plt.title('Weights')\n",
    "    # plt.legend()\n",
    "    # if savedir:\n",
    "        # plt.savefig(f'{savedir}/weights.png')\n",
    "    # plt.show()\n",
    "\n",
    "    # # ABS DIFF AT ROUND 5\n",
    "    # plt.plot(x, running_mean(env.send_diffs), label='sender')\n",
    "    # plt.plot(x, running_mean(env.recv_diffs), label='recver')\n",
    "    # plt.title('Absolute diff at Round 5')\n",
    "    # plt.legend()\n",
    "    # if savedir:\n",
    "        # plt.savefig(f'{savedir}/diff.png')\n",
    "    # plt.show()\n",
    "\n",
    "    # Sender and Recver Output Samples\n",
    "#     for sample in [\"0\", \"15\", \"30\"]:\n",
    "#         sns.lineplot(data=sender, x=sender.index, y=sample, label=sample)\n",
    "\n",
    "#     plt.title('Sender output samples')\n",
    "#     plt.ylabel('')\n",
    "#     plt.legend()\n",
    "#     if savedir:\n",
    "#         plt.savefig(f'{savedir}/send_samples.png')\n",
    "#     plt.show()\n",
    "#     plt.clf()\n",
    "\n",
    "#     for sample in [\"0\", \"15\", \"30\"]:\n",
    "#         sns.lineplot(data=recver, x=recver.index, y=sample, label=sample)\n",
    "#     plt.title('Recver output samples')\n",
    "#     plt.legend()\n",
    "#     if savedir:\n",
    "#         plt.savefig(f'{savedir}/recv_samples.png')\n",
    "#     plt.show()\n",
    "#     plt.clf()\n",
    "\n",
    "    # # ENTROPY\n",
    "    # if 'entropy' in recver:\n",
    "        # plt.plot(x, recver['entropy'], label='entropy')\n",
    "        # plt.legend()\n",
    "        # if savedir:\n",
    "            # plt.savefig(f'{savedir}/entropy.png')\n",
    "        # plt.show()\n"
   ]
  },
  {
   "cell_type": "code",
   "execution_count": 67,
   "metadata": {},
   "outputs": [
    {
     "name": "stdout",
     "output_type": "stream",
     "text": [
      "plotting from ../results/test/logs.json\n"
     ]
    },
    {
     "data": {
      "image/png": "[encoded data removed]",
      "text/plain": [
       "<Figure size 432x288 with 1 Axes>"
      ]
     },
     "metadata": {},
     "output_type": "display_data"
    },
    {
     "data": {
      "text/plain": [
       "<Figure size 432x288 with 0 Axes>"
      ]
     },
     "metadata": {},
     "output_type": "display_data"
    }
   ],
   "source": [
    "# for i in range(3):\n",
    "#     logpath = f'../results/deter-deter-lola/lola{i}-vocab1-bias1'\n",
    "logpath = '../results/test'\n",
    "\n",
    "with sns.plotting_context('paper'):\n",
    "#     plt.title(f'LOLA-{i}')\n",
    "    plot(logpath, logpath)\n",
    "\n"
   ]
  },
  {
   "cell_type": "code",
   "execution_count": 43,
   "metadata": {},
   "outputs": [],
   "source": [
    "def old_plot(logdir, savedir):\n",
    "    if savedir:\n",
    "        savepath = Path(savedir)\n",
    "        \n",
    "    logpath = Path(logdir)    \n",
    "\n",
    "    config_file = next(logpath.glob('**/*.gin'))\n",
    "    gin.parse_config_file(config_file, skip_unknown=True)\n",
    "    env = ISR()\n",
    "    \n",
    "    run_logs = []\n",
    "    for path in logpath.glob('**/*.json'):\n",
    "        print(f'plotting from {path}')\n",
    "        with open(path, 'r') as logfile:\n",
    "            run_logs.append(pd.read_json(logfile))\n",
    "\n",
    "    logs = pd.concat(run_logs, ignore_index=True)\n",
    "    sender = pd.DataFrame(logs['sender'].to_list()).join(logs['episode'])\n",
    "    recver = pd.DataFrame(logs['recver'].to_list()).join(logs['episode'])\n",
    "    \n",
    "    sns.set()\n",
    "    \n",
    "    # Rewards\n",
    "    sns.lineplot(data=sender, x=\"episode\", y=\"reward\", label=\"sender\")\n",
    "    sns.lineplot(data=recver, x=\"episode\", y=\"reward\", label=\"recver\")\n",
    "\n",
    "    # Baselines\n",
    "    nocomm_loss = torch.tensor(env.observation_space.n / 4)\n",
    "    nocomm_rew = env._reward(nocomm_loss)\n",
    "    oneshot_loss = env.bias_space.low / 2 + (env.bias_space.range) / 4\n",
    "    oneshot_rew = env._reward(oneshot_loss)\n",
    "    plt.axhline(nocomm_rew, label='no communication', color=\"black\", dashes=(2,2,2,2))\n",
    "    plt.axhline(oneshot_rew, label='fair split', color=\"grey\", dashes=(2,2,2,2))\n",
    "\n",
    "    plt.legend()\n",
    "    if savedir:\n",
    "        plt.savefig(savepath / 'rewards.png')\n",
    "    plt.show()\n",
    "    plt.clf()"
   ]
  },
  {
   "cell_type": "code",
   "execution_count": 64,
   "metadata": {},
   "outputs": [
    {
     "ename": "AttributeError",
     "evalue": "'tuple' object has no attribute 'name'",
     "output_type": "error",
     "traceback": [
      "\u001b[0;31m---------------------------------------------------------------------------\u001b[0m",
      "\u001b[0;31mAttributeError\u001b[0m                            Traceback (most recent call last)",
      "\u001b[0;32m<ipython-input-64-49f42e2dfadb>\u001b[0m in \u001b[0;36m<module>\u001b[0;34m\u001b[0m\n\u001b[1;32m      2\u001b[0m \u001b[0my\u001b[0m \u001b[0;34m=\u001b[0m \u001b[0;34m[\u001b[0m\u001b[0;36m6\u001b[0m\u001b[0;34m,\u001b[0m\u001b[0;36m7\u001b[0m\u001b[0;34m,\u001b[0m\u001b[0;36m8\u001b[0m\u001b[0;34m]\u001b[0m\u001b[0;34m\u001b[0m\u001b[0;34m\u001b[0m\u001b[0m\n\u001b[1;32m      3\u001b[0m \u001b[0;32mfor\u001b[0m \u001b[0mx\u001b[0m\u001b[0;34m,\u001b[0m\u001b[0mz\u001b[0m \u001b[0;32min\u001b[0m \u001b[0mzip\u001b[0m\u001b[0;34m(\u001b[0m\u001b[0mx\u001b[0m\u001b[0;34m.\u001b[0m\u001b[0mitems\u001b[0m\u001b[0;34m(\u001b[0m\u001b[0;34m)\u001b[0m\u001b[0;34m,\u001b[0m \u001b[0my\u001b[0m\u001b[0;34m)\u001b[0m\u001b[0;34m:\u001b[0m\u001b[0;34m\u001b[0m\u001b[0;34m\u001b[0m\u001b[0m\n\u001b[0;32m----> 4\u001b[0;31m     \u001b[0mprint\u001b[0m\u001b[0;34m(\u001b[0m\u001b[0mx\u001b[0m\u001b[0;34m.\u001b[0m\u001b[0mname\u001b[0m\u001b[0;34m,\u001b[0m\u001b[0mx\u001b[0m\u001b[0;34m.\u001b[0m\u001b[0mval\u001b[0m\u001b[0;34m,\u001b[0m\u001b[0mz\u001b[0m\u001b[0;34m)\u001b[0m\u001b[0;34m\u001b[0m\u001b[0;34m\u001b[0m\u001b[0m\n\u001b[0m",
      "\u001b[0;31mAttributeError\u001b[0m: 'tuple' object has no attribute 'name'"
     ]
    }
   ],
   "source": [
    "x = {'a':1, 'b':2}\n",
    "y = [6,7,8]\n",
    "for x,z in zip(x.items(), y):\n",
    "    print(x.name,x.val,z)"
   ]
  },
  {
   "cell_type": "code",
   "execution_count": null,
   "metadata": {},
   "outputs": [],
   "source": []
  }
 ],
 "metadata": {
  "kernelspec": {
   "display_name": "Python 3",
   "language": "python",
   "name": "python3"
  },
  "language_info": {
   "codemirror_mode": {
    "name": "ipython",
    "version": 3
   },
   "file_extension": ".py",
   "mimetype": "text/x-python",
   "name": "python",
   "nbconvert_exporter": "python",
   "pygments_lexer": "ipython3",
   "version": "3.7.2"
  }
 },
 "nbformat": 4,
 "nbformat_minor": 2
}
