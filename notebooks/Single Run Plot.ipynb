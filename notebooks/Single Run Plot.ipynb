{
 "cells": [
  {
   "cell_type": "code",
   "execution_count": 2,
   "metadata": {},
   "outputs": [],
   "source": [
    "from pathlib import Path\n",
    "\n",
    "import gin\n",
    "import matplotlib.pyplot as plt\n",
    "import pandas as pd\n",
    "import seaborn as sns\n",
    "import torch\n",
    "\n",
    "from src.game import Game, CircleL1, CircleL2"
   ]
  },
  {
   "cell_type": "code",
   "execution_count": 3,
   "metadata": {},
   "outputs": [],
   "source": [
    "def plot(logdir, savedir=None, name='error', show=True):\n",
    "    if savedir:\n",
    "        savepath = Path(savedir)\n",
    "        \n",
    "    logpath = Path(logdir)    \n",
    "\n",
    "    config_file = next(logpath.glob('**/*.gin'))\n",
    "    print(f'config file {config_file}')\n",
    "    gin.parse_config_file(config_file, skip_unknown=True)\n",
    "    \n",
    "    bias = gin.config.query_parameter('Game.bias')\n",
    "    num_points = gin.config.query_parameter('Game.num_points')\n",
    "    test_loss = CircleL1(num_points)\n",
    "    \n",
    "    run_logs = []\n",
    "    for path in logpath.glob('**/*.json'):\n",
    "        print(f'plotting from {path}')\n",
    "        with open(path, 'r') as logfile:\n",
    "            run_logs.append(pd.read_json(logfile))\n",
    "\n",
    "    logs = pd.concat(run_logs, ignore_index=True)\n",
    "    sender = pd.DataFrame(logs['sender'].to_list()).join(logs['epoch'])\n",
    "    recver = pd.DataFrame(logs['recver'].to_list()).join(logs['epoch'])\n",
    "    \n",
    "    if show:\n",
    "        metric = \"test_l1_error\" if \"test_l1_error\" in sender else \"test_error\"\n",
    "\n",
    "        # Rewards\n",
    "        sns.lineplot(data=sender, x=\"epoch\", y=sender[metric]*10, label=\"sender\")\n",
    "        sns.lineplot(data=recver, x=\"epoch\", y=recver[metric]*10, label=\"receiver\")\n",
    "\n",
    "        # Baselines\n",
    "        nocomm_diff = torch.tensor(36 / 4)\n",
    "        nocomm_error = test_loss(torch.tensor(0.), nocomm_diff)*10\n",
    "        fair_error = test_loss(torch.tensor(0.), bias/2)*10\n",
    "        plt.axhline(nocomm_error, label='no communication', color=\"black\", dashes=(2,2,2,2))\n",
    "        plt.axhline(fair_error, label='fair split', color=\"grey\", dashes=(2,2,2,2))\n",
    "\n",
    "        plt.ylabel(r'Test $L_1$ loss')\n",
    "\n",
    "        if savedir:\n",
    "            plt.savefig(savepath / f'{name}.png',  bbox_inches='tight')\n",
    "            \n",
    "        print(\"here\")\n",
    "        plt.show()\n",
    "        plt.clf()\n",
    "\n",
    "    error_sum = pd.DataFrame(sender['test_l1_error'] + recver['test_l1_error']).join(logs['epoch'])\n",
    "    error_20 = error_sum[error_sum['epoch'] >= 20]\n",
    "    return [error_20[i*10:i*10+10]['test_l1_error'].mean() for i in range(5)]\n",
    "    "
   ]
  },
  {
   "cell_type": "code",
   "execution_count": null,
   "metadata": {},
   "outputs": [],
   "source": [
    "resultspath = Path('../results/cat-deter')\n",
    "with sns.plotting_context('paper'):\n",
    "    sns.set(font_scale=1.3)\n",
    "    plot_hyperparam_results(resultspath, 'SenderLOLA4-ReceiverLOLA4', resultspath / 'plots')"
   ]
  }
 ],
 "metadata": {
  "kernelspec": {
   "display_name": "Python 3",
   "language": "python",
   "name": "python3"
  },
  "language_info": {
   "codemirror_mode": {
    "name": "ipython",
    "version": 3
   },
   "file_extension": ".py",
   "mimetype": "text/x-python",
   "name": "python",
   "nbconvert_exporter": "python",
   "pygments_lexer": "ipython3",
   "version": "3.7.2"
  }
 },
 "nbformat": 4,
 "nbformat_minor": 2
}
